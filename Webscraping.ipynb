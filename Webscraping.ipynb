{
 "cells": [
  {
   "cell_type": "code",
   "execution_count": 1,
   "metadata": {
    "collapsed": true
   },
   "outputs": [],
   "source": [
    "from lxml import html\n",
    "import requests, bs4\n",
    "import pandas as pd\n",
    "import re"
   ]
  },
  {
   "cell_type": "code",
   "execution_count": 37,
   "metadata": {
    "collapsed": false
   },
   "outputs": [],
   "source": [
    "page = requests.get('http://www.aliexpress.com/category/200003482/dresses.html?spm=2114.20010108.4.1.CuzJrf')\n",
    "soup = bs4.BeautifulSoup(page.text,'lxml')"
   ]
  },
  {
   "cell_type": "code",
   "execution_count": 40,
   "metadata": {
    "collapsed": false
   },
   "outputs": [
    {
     "data": {
      "text/plain": [
       "43"
      ]
     },
     "execution_count": 40,
     "metadata": {},
     "output_type": "execute_result"
    }
   ],
   "source": [
    "products = soup.select('div[class=\"item\"] .product ')\n",
    "hrefs = []\n",
    "titles = []\n",
    "for i in range(len(products)):\n",
    "    product = products[i].attrs\n",
    "    hrefs.append('http:'+ product['href'])\n",
    "    titles.append(product[\"title\"])\n",
    "\n",
    "    \n",
    "titles\n",
    "len(titles)"
   ]
  },
  {
   "cell_type": "code",
   "execution_count": 42,
   "metadata": {
    "collapsed": false
   },
   "outputs": [
    {
     "data": {
      "text/plain": [
       "43"
      ]
     },
     "execution_count": 42,
     "metadata": {},
     "output_type": "execute_result"
    }
   ],
   "source": [
    "products_price = soup.select('div[class=\"item\"] span[itemprop=\"price\"]')\n",
    "prices = []\n",
    "for i in range(len(products_price)):\n",
    "    price = products_price[i].getText()\n",
    "    prices.append(price[4:])\n",
    "\n",
    "len(prices)"
   ]
  },
  {
   "cell_type": "code",
   "execution_count": 43,
   "metadata": {
    "collapsed": false
   },
   "outputs": [
    {
     "data": {
      "text/plain": [
       "43"
      ]
     },
     "execution_count": 43,
     "metadata": {},
     "output_type": "execute_result"
    }
   ],
   "source": [
    "products_unit = soup.select('div[class=\"item\"] span span[class=\"unit\"]')\n",
    "units = []\n",
    "for i in range(len(products_unit)):\n",
    "    unit = products_unit[i].getText()\n",
    "    units.append(unit)\n",
    "\n",
    "len(units)"
   ]
  },
  {
   "cell_type": "code",
   "execution_count": 44,
   "metadata": {
    "collapsed": false
   },
   "outputs": [
    {
     "data": {
      "text/plain": [
       "43"
      ]
     },
     "execution_count": 44,
     "metadata": {},
     "output_type": "execute_result"
    }
   ],
   "source": [
    "products_image = soup.select('div[class=\"item\"] div[class=\"pic\"] a img')\n",
    "images = []\n",
    "for i in range(len(products_image)):\n",
    "    pic = products_image[i].attrs\n",
    "\n",
    "    try:\n",
    "        images.append(pic['src'])\n",
    "    except:\n",
    "        images.append(pic['image-src'])\n",
    "    \n",
    "len(images)"
   ]
  },
  {
   "cell_type": "code",
   "execution_count": 45,
   "metadata": {
    "collapsed": false
   },
   "outputs": [
    {
     "data": {
      "text/plain": [
       "43"
      ]
     },
     "execution_count": 45,
     "metadata": {},
     "output_type": "execute_result"
    }
   ],
   "source": [
    "products_shipping = soup.select('div[class=\"item\"] .info  ')\n",
    "shippings = []\n",
    "for i in range(len(products_shipping)):\n",
    "    string = str(products_shipping[i])\n",
    "    match = re.search('Free Shipping',string)\n",
    "    if match:\n",
    "        shippings.append(str(0))\n",
    "    else:\n",
    "        match = re.search('<dl class=\"pnl-shipping\">\\n<dt>Shipping:</dt>\\n<dd class=\"price\">\\n<span class=\"value\">',string)\n",
    "        shippings.append(re.findall(\"[-+]?\\d+[\\.]?\\d*\", string[match.end():match.end()+20])[0])\n",
    "len(shippings)"
   ]
  },
  {
   "cell_type": "code",
   "execution_count": 47,
   "metadata": {
    "collapsed": false
   },
   "outputs": [
    {
     "data": {
      "text/html": [
       "<div>\n",
       "<table border=\"1\" class=\"dataframe\">\n",
       "  <thead>\n",
       "    <tr style=\"text-align: right;\">\n",
       "      <th></th>\n",
       "      <th>Title</th>\n",
       "      <th>Price (USD)</th>\n",
       "      <th>Shipping Cost (USD)</th>\n",
       "      <th>Unit</th>\n",
       "      <th>Webpage Link</th>\n",
       "      <th>Image Link</th>\n",
       "    </tr>\n",
       "  </thead>\n",
       "  <tbody>\n",
       "    <tr>\n",
       "      <th>0</th>\n",
       "      <td>Women Plus Size Dress Summer Fashion Bahemian ...</td>\n",
       "      <td>19.80</td>\n",
       "      <td>0</td>\n",
       "      <td>piece</td>\n",
       "      <td>http://www.aliexpress.com/item/Women-Plus-Size...</td>\n",
       "      <td>http://g03.a.alicdn.com/kf/HTB1k0.TLpXXXXcPXVX...</td>\n",
       "    </tr>\n",
       "    <tr>\n",
       "      <th>1</th>\n",
       "      <td>Hot 2016 summer sexy women maxi dress red band...</td>\n",
       "      <td>19.55</td>\n",
       "      <td>0</td>\n",
       "      <td>piece</td>\n",
       "      <td>http://www.aliexpress.com/item/Hot-2016-summer...</td>\n",
       "      <td>http://g02.a.alicdn.com/kf/HTB13ZikJVXXXXaHXpX...</td>\n",
       "    </tr>\n",
       "    <tr>\n",
       "      <th>2</th>\n",
       "      <td>Hot Sale ! New Summer 2016 Women Sexy Lace Chi...</td>\n",
       "      <td>9.49 - 12.34</td>\n",
       "      <td>5.27</td>\n",
       "      <td>piece</td>\n",
       "      <td>http://www.aliexpress.com/item/Hot-Sale-New-Su...</td>\n",
       "      <td>http://g03.a.alicdn.com/kf/HTB1V.h9JVXXXXbkXFX...</td>\n",
       "    </tr>\n",
       "    <tr>\n",
       "      <th>3</th>\n",
       "      <td>Summer Women Sexy Long Party Dresses 2016 Slee...</td>\n",
       "      <td>19.54</td>\n",
       "      <td>0</td>\n",
       "      <td>piece</td>\n",
       "      <td>http://www.aliexpress.com/item/Summer-Women-Se...</td>\n",
       "      <td>http://g02.a.alicdn.com/kf/HTB13qxoKVXXXXaHXpX...</td>\n",
       "    </tr>\n",
       "    <tr>\n",
       "      <th>4</th>\n",
       "      <td>BEFORW Brand Women Dress Vintage Sleeveless Su...</td>\n",
       "      <td>6.92</td>\n",
       "      <td>0</td>\n",
       "      <td>piece</td>\n",
       "      <td>http://www.aliexpress.com/item/BEFORW-Brand-Wo...</td>\n",
       "      <td>http://g01.a.alicdn.com/kf/HTB1UXN_MFXXXXXgXFX...</td>\n",
       "    </tr>\n",
       "    <tr>\n",
       "      <th>5</th>\n",
       "      <td>Fashion Women Robe Sweet Sexy Stitching Sleeve...</td>\n",
       "      <td>4.30</td>\n",
       "      <td>0</td>\n",
       "      <td>piece</td>\n",
       "      <td>http://www.aliexpress.com/item/Fashion-Women-R...</td>\n",
       "      <td>http://g03.a.alicdn.com/kf/HTB1dippJVXXXXXvaXX...</td>\n",
       "    </tr>\n",
       "    <tr>\n",
       "      <th>6</th>\n",
       "      <td>2015 summer autumn new Korean Women casual Boh...</td>\n",
       "      <td>3.56 - 4.25</td>\n",
       "      <td>0</td>\n",
       "      <td>piece</td>\n",
       "      <td>http://www.aliexpress.com/item/2015-spring-sum...</td>\n",
       "      <td>http://g01.a.alicdn.com/kf/HTB1F4t8IFXXXXXRXVX...</td>\n",
       "    </tr>\n",
       "    <tr>\n",
       "      <th>7</th>\n",
       "      <td>2016 Women Summer Dresses Chiffon O Neck Sleev...</td>\n",
       "      <td>7.98</td>\n",
       "      <td>0</td>\n",
       "      <td>piece</td>\n",
       "      <td>http://www.aliexpress.com/item/2016-Women-Summ...</td>\n",
       "      <td>http://g02.a.alicdn.com/kf/HTB1aEzsKXXXXXa6XFX...</td>\n",
       "    </tr>\n",
       "    <tr>\n",
       "      <th>8</th>\n",
       "      <td>Vfemage Womens Elegant Ruffle Sleeve Ruched Pa...</td>\n",
       "      <td>16.99 - 23.99</td>\n",
       "      <td>2.09</td>\n",
       "      <td>piece</td>\n",
       "      <td>http://www.aliexpress.com/item/VfEmage-Womens-...</td>\n",
       "      <td>http://g01.a.alicdn.com/kf/HTB1Uvz4JXXXXXc1aXX...</td>\n",
       "    </tr>\n",
       "    <tr>\n",
       "      <th>9</th>\n",
       "      <td>Nice-forever 2016 New arrival Print Floral Sol...</td>\n",
       "      <td>14.90 - 20.58</td>\n",
       "      <td>2.09</td>\n",
       "      <td>piece</td>\n",
       "      <td>http://www.aliexpress.com/item/Nice-forever-20...</td>\n",
       "      <td>http://g03.a.alicdn.com/kf/HTB10rSMMXXXXXasXVX...</td>\n",
       "    </tr>\n",
       "    <tr>\n",
       "      <th>10</th>\n",
       "      <td>Summer dress women fashion new letter print bl...</td>\n",
       "      <td>20.90</td>\n",
       "      <td>3.12</td>\n",
       "      <td>piece</td>\n",
       "      <td>http://www.aliexpress.com/item/Summer-dress-wo...</td>\n",
       "      <td>http://g03.a.alicdn.com/kf/HTB1graNJVXXXXbxaXX...</td>\n",
       "    </tr>\n",
       "    <tr>\n",
       "      <th>11</th>\n",
       "      <td>New Women's Summer Dress V Neck Sleeveless Sex...</td>\n",
       "      <td>5.15 - 6.13</td>\n",
       "      <td>0</td>\n",
       "      <td>piece</td>\n",
       "      <td>http://www.aliexpress.com/item/New-Women-s-Sum...</td>\n",
       "      <td>http://g02.a.alicdn.com/kf/HTB14sLkLpXXXXbuXpX...</td>\n",
       "    </tr>\n",
       "    <tr>\n",
       "      <th>12</th>\n",
       "      <td>Kaige.Nina New Summer None Print Sleeveless Sh...</td>\n",
       "      <td>12.59</td>\n",
       "      <td>0</td>\n",
       "      <td>piece</td>\n",
       "      <td>http://www.aliexpress.com/item/2015-New-Sale-W...</td>\n",
       "      <td>http://g01.a.alicdn.com/kf/HTB1SU4TLXXXXXbIXXX...</td>\n",
       "    </tr>\n",
       "    <tr>\n",
       "      <th>13</th>\n",
       "      <td>New European 2016 Spring Women's Lace Hollow O...</td>\n",
       "      <td>18.91</td>\n",
       "      <td>0</td>\n",
       "      <td>piece</td>\n",
       "      <td>http://www.aliexpress.com/item/New-European-20...</td>\n",
       "      <td>http://g02.a.alicdn.com/kf/HTB1S14sMFXXXXayXFX...</td>\n",
       "    </tr>\n",
       "    <tr>\n",
       "      <th>14</th>\n",
       "      <td>Simplee Apparel Sexy off shoulder sequin tasse...</td>\n",
       "      <td>18.99</td>\n",
       "      <td>0</td>\n",
       "      <td>piece</td>\n",
       "      <td>http://www.aliexpress.com/item/Simplee-Apparel...</td>\n",
       "      <td>http://g02.a.alicdn.com/kf/HTB1iP4wKpXXXXapXXX...</td>\n",
       "    </tr>\n",
       "    <tr>\n",
       "      <th>15</th>\n",
       "      <td>Sisjuly 2016 Maxi Summer Plaid  Women Dress Ne...</td>\n",
       "      <td>16.26</td>\n",
       "      <td>0</td>\n",
       "      <td>piece</td>\n",
       "      <td>http://www.aliexpress.com/item/2016-Bridess-Ma...</td>\n",
       "      <td>http://g02.a.alicdn.com/kf/HTB1p03GKFXXXXcGaXX...</td>\n",
       "    </tr>\n",
       "    <tr>\n",
       "      <th>16</th>\n",
       "      <td>Summer style Robe longue femme chiffon dress b...</td>\n",
       "      <td>11.54 - 12.60</td>\n",
       "      <td>0</td>\n",
       "      <td>piece</td>\n",
       "      <td>http://www.aliexpress.com/item/Summer-style-Ro...</td>\n",
       "      <td>http://g02.a.alicdn.com/kf/HTB1S3.wHFXXXXaSXVX...</td>\n",
       "    </tr>\n",
       "    <tr>\n",
       "      <th>17</th>\n",
       "      <td>SheIn New Woman Dress 2016 Summer Black Round ...</td>\n",
       "      <td>15.97</td>\n",
       "      <td>0</td>\n",
       "      <td>piece</td>\n",
       "      <td>http://www.aliexpress.com/item/SheIn-New-Woman...</td>\n",
       "      <td>http://g01.a.alicdn.com/kf/HTB1RVubJFXXXXckXVX...</td>\n",
       "    </tr>\n",
       "    <tr>\n",
       "      <th>18</th>\n",
       "      <td>New 2016 Summer Fashion Hollow Out Elegant Whi...</td>\n",
       "      <td>19.25</td>\n",
       "      <td>0</td>\n",
       "      <td>piece</td>\n",
       "      <td>http://www.aliexpress.com/item/New-2016-Summer...</td>\n",
       "      <td>http://g01.a.alicdn.com/kf/HTB1d4ImLFXXXXX3XFX...</td>\n",
       "    </tr>\n",
       "    <tr>\n",
       "      <th>19</th>\n",
       "      <td>2016 Women Vintage A-Line Dress Office Lady On...</td>\n",
       "      <td>26.51</td>\n",
       "      <td>0</td>\n",
       "      <td>piece</td>\n",
       "      <td>http://www.aliexpress.com/item/2015-Women-Vint...</td>\n",
       "      <td>http://g02.a.alicdn.com/kf/HTB1bMCoJXXXXXa6XVX...</td>\n",
       "    </tr>\n",
       "    <tr>\n",
       "      <th>20</th>\n",
       "      <td>ACEVOG Brand S - 4XL Women Dress Retro Vintage...</td>\n",
       "      <td>17.64</td>\n",
       "      <td>0</td>\n",
       "      <td>piece</td>\n",
       "      <td>http://www.aliexpress.com/item/ACEVOG-Brand-S-...</td>\n",
       "      <td>http://g04.a.alicdn.com/kf/HTB1pLQZJFXXXXa3XpX...</td>\n",
       "    </tr>\n",
       "    <tr>\n",
       "      <th>21</th>\n",
       "      <td>2016 Bohemian dress summer beach chiffon dress...</td>\n",
       "      <td>6.99</td>\n",
       "      <td>1.84</td>\n",
       "      <td>piece</td>\n",
       "      <td>http://www.aliexpress.com/item/Bohemian-dress-...</td>\n",
       "      <td>http://g02.a.alicdn.com/kf/HTB18PS5HFXXXXaoapX...</td>\n",
       "    </tr>\n",
       "    <tr>\n",
       "      <th>22</th>\n",
       "      <td>Gagaopt 2016 Summer Party Dresses Princess Ope...</td>\n",
       "      <td>19.83</td>\n",
       "      <td>0</td>\n",
       "      <td>piece</td>\n",
       "      <td>http://www.aliexpress.com/item/Gagaopt-2016-Sp...</td>\n",
       "      <td>http://g03.a.alicdn.com/kf/HTB1k1liKpXXXXXNXFX...</td>\n",
       "    </tr>\n",
       "    <tr>\n",
       "      <th>23</th>\n",
       "      <td>Women Candy Color Spaghetti Strap Bandage Dres...</td>\n",
       "      <td>37.88</td>\n",
       "      <td>0</td>\n",
       "      <td>piece</td>\n",
       "      <td>http://www.aliexpress.com/item/Women-candy-HL-...</td>\n",
       "      <td>http://g01.a.alicdn.com/kf/HTB1_g2YJFXXXXXHXFX...</td>\n",
       "    </tr>\n",
       "    <tr>\n",
       "      <th>24</th>\n",
       "      <td>Women Multicolor Print Sleeveless Bodycon Penc...</td>\n",
       "      <td>11.98</td>\n",
       "      <td>0</td>\n",
       "      <td>piece</td>\n",
       "      <td>http://www.aliexpress.com/item/COLROVE-Woman-W...</td>\n",
       "      <td>http://g02.a.alicdn.com/kf/HTB1QgbDKpXXXXbDXFX...</td>\n",
       "    </tr>\n",
       "    <tr>\n",
       "      <th>25</th>\n",
       "      <td>2016 new women fashion backless sexy dress whi...</td>\n",
       "      <td>5.99</td>\n",
       "      <td>0.67</td>\n",
       "      <td>piece</td>\n",
       "      <td>http://www.aliexpress.com/item/2016-new-women-...</td>\n",
       "      <td>http://g04.a.alicdn.com/kf/HTB1RimhKXXXXXbpXFX...</td>\n",
       "    </tr>\n",
       "    <tr>\n",
       "      <th>26</th>\n",
       "      <td>DEIVE TEGER Free Shipping 2016 New Arrival Hig...</td>\n",
       "      <td>35.91</td>\n",
       "      <td>0</td>\n",
       "      <td>piece</td>\n",
       "      <td>http://www.aliexpress.com/item/DEIVE-TEGER-Fre...</td>\n",
       "      <td>http://g02.a.alicdn.com/kf/HTB1i2hbKpXXXXXyXFX...</td>\n",
       "    </tr>\n",
       "    <tr>\n",
       "      <th>27</th>\n",
       "      <td>Summer women sexy Slim dress o-neck Black and ...</td>\n",
       "      <td>6.27 - 7.18</td>\n",
       "      <td>0</td>\n",
       "      <td>piece</td>\n",
       "      <td>http://www.aliexpress.com/item/Summer-women-se...</td>\n",
       "      <td>http://g03.a.alicdn.com/kf/HTB1Vv03JVXXXXbcXFX...</td>\n",
       "    </tr>\n",
       "    <tr>\n",
       "      <th>28</th>\n",
       "      <td>New Fashion Plus Size 6XL 2016 Summer Slim Loo...</td>\n",
       "      <td>4.95</td>\n",
       "      <td>0</td>\n",
       "      <td>piece</td>\n",
       "      <td>http://www.aliexpress.com/item/New-Fashion-Plu...</td>\n",
       "      <td>http://g04.a.alicdn.com/kf/HTB1PxhIJFXXXXXlXXX...</td>\n",
       "    </tr>\n",
       "    <tr>\n",
       "      <th>29</th>\n",
       "      <td>2016 new summer short-sleeved dress sexy casua...</td>\n",
       "      <td>6.92</td>\n",
       "      <td>0</td>\n",
       "      <td>piece</td>\n",
       "      <td>http://www.aliexpress.com/item/2016-new-summer...</td>\n",
       "      <td>http://g04.a.alicdn.com/kf/HTB1uGWhJVXXXXXAXXX...</td>\n",
       "    </tr>\n",
       "    <tr>\n",
       "      <th>30</th>\n",
       "      <td>ElaCentelha Brand Dress Summer Women High Qual...</td>\n",
       "      <td>41.40</td>\n",
       "      <td>0</td>\n",
       "      <td>piece</td>\n",
       "      <td>http://www.aliexpress.com/item/ElaCentelha-Bra...</td>\n",
       "      <td>http://g04.a.alicdn.com/kf/HTB1hNFlLVXXXXckXFX...</td>\n",
       "    </tr>\n",
       "    <tr>\n",
       "      <th>31</th>\n",
       "      <td>Women Black Mini Casual Dress</td>\n",
       "      <td>9.98</td>\n",
       "      <td>0</td>\n",
       "      <td>piece</td>\n",
       "      <td>http://www.aliexpress.com/item/Dotfashion-2016...</td>\n",
       "      <td>http://g02.a.alicdn.com/kf/HTB1YQYXKVXXXXcOXVX...</td>\n",
       "    </tr>\n",
       "    <tr>\n",
       "      <th>32</th>\n",
       "      <td>BunniesFairy Celebrity-inspired Women Elegant ...</td>\n",
       "      <td>20.33 - 25.80</td>\n",
       "      <td>0</td>\n",
       "      <td>piece</td>\n",
       "      <td>http://www.aliexpress.com/item/2015-Summer-Cel...</td>\n",
       "      <td>http://g02.a.alicdn.com/kf/HTB1F4A1KXXXXXbWaXX...</td>\n",
       "    </tr>\n",
       "    <tr>\n",
       "      <th>33</th>\n",
       "      <td>2016 Summer Dress Beach Dress Plus Size Vestid...</td>\n",
       "      <td>7.40 - 7.95</td>\n",
       "      <td>1.68</td>\n",
       "      <td>piece</td>\n",
       "      <td>http://www.aliexpress.com/item/2016-Summer-Dre...</td>\n",
       "      <td>http://g01.a.alicdn.com/kf/HTB16mCZLpXXXXa4aXX...</td>\n",
       "    </tr>\n",
       "    <tr>\n",
       "      <th>34</th>\n",
       "      <td>New Women Summer Floral Print Retro Vintage 50...</td>\n",
       "      <td>12.54</td>\n",
       "      <td>0</td>\n",
       "      <td>piece</td>\n",
       "      <td>http://www.aliexpress.com/item/New-Women-Summe...</td>\n",
       "      <td>http://g03.a.alicdn.com/kf/HTB1qY2kKVXXXXcNXVX...</td>\n",
       "    </tr>\n",
       "    <tr>\n",
       "      <th>35</th>\n",
       "      <td>Soperwillton New Summer Print Dresses Women Sl...</td>\n",
       "      <td>9.08 - 9.90</td>\n",
       "      <td>0</td>\n",
       "      <td>piece</td>\n",
       "      <td>http://www.aliexpress.com/item/Soperwillton-Ne...</td>\n",
       "      <td>http://g04.a.alicdn.com/kf/HTB1FJIfMXXXXXcfXFX...</td>\n",
       "    </tr>\n",
       "    <tr>\n",
       "      <th>36</th>\n",
       "      <td>COLROVE 2016 New Summer Style Bodycon Dresses ...</td>\n",
       "      <td>10.99</td>\n",
       "      <td>0</td>\n",
       "      <td>piece</td>\n",
       "      <td>http://www.aliexpress.com/item/COLROVE-2016-Ne...</td>\n",
       "      <td>http://g01.a.alicdn.com/kf/HTB1PrNfJFXXXXbWXpX...</td>\n",
       "    </tr>\n",
       "    <tr>\n",
       "      <th>37</th>\n",
       "      <td>2016 Summer Style Women Fashion Dress Vintage ...</td>\n",
       "      <td>12.08 - 12.98</td>\n",
       "      <td>0</td>\n",
       "      <td>piece</td>\n",
       "      <td>http://www.aliexpress.com/item/2016-Summer-Sty...</td>\n",
       "      <td>http://g02.a.alicdn.com/kf/HTB1nsozLXXXXXb2XVX...</td>\n",
       "    </tr>\n",
       "    <tr>\n",
       "      <th>38</th>\n",
       "      <td>Meaneor Brand 2015-2016 Women vestidos autumn ...</td>\n",
       "      <td>17.99</td>\n",
       "      <td>0</td>\n",
       "      <td>piece</td>\n",
       "      <td>http://www.aliexpress.com/item/Meaneor-Brand-2...</td>\n",
       "      <td>http://g04.a.alicdn.com/kf/HTB1xKe0KFXXXXb6XXX...</td>\n",
       "    </tr>\n",
       "    <tr>\n",
       "      <th>39</th>\n",
       "      <td>R70068 Fashion style low neck sleeveless work ...</td>\n",
       "      <td>14.48</td>\n",
       "      <td>0</td>\n",
       "      <td>piece</td>\n",
       "      <td>http://www.aliexpress.com/item/R70068-Fashion-...</td>\n",
       "      <td>http://g01.a.alicdn.com/kf/HTB13rYxJpXXXXabXpX...</td>\n",
       "    </tr>\n",
       "    <tr>\n",
       "      <th>40</th>\n",
       "      <td>Summer Women Dress 2016 Plus Size Women Clothi...</td>\n",
       "      <td>6.82</td>\n",
       "      <td>0</td>\n",
       "      <td>piece</td>\n",
       "      <td>http://www.aliexpress.com/item/2014-New-Summer...</td>\n",
       "      <td>http://g01.a.alicdn.com/kf/HTB1VZ4NJpXXXXcDXFX...</td>\n",
       "    </tr>\n",
       "    <tr>\n",
       "      <th>41</th>\n",
       "      <td>2016 NEW ARRIVALSexy Summer Beach Women Girl F...</td>\n",
       "      <td>5.19</td>\n",
       "      <td>0</td>\n",
       "      <td>piece</td>\n",
       "      <td>http://www.aliexpress.com/item/2014-NEW-ARRIVA...</td>\n",
       "      <td>http://g02.a.alicdn.com/kf/HTB1WmhBLXXXXXc4XXX...</td>\n",
       "    </tr>\n",
       "    <tr>\n",
       "      <th>42</th>\n",
       "      <td>Dresses Free Shipping Women's Casual Clothing ...</td>\n",
       "      <td>6.22</td>\n",
       "      <td>0</td>\n",
       "      <td>piece</td>\n",
       "      <td>http://www.aliexpress.com/item/Free-Shipping-C...</td>\n",
       "      <td>http://g01.a.alicdn.com/kf/HTB1W5SWIVXXXXcRXVX...</td>\n",
       "    </tr>\n",
       "  </tbody>\n",
       "</table>\n",
       "</div>"
      ],
      "text/plain": [
       "                                                Title    Price (USD)  \\\n",
       "0   Women Plus Size Dress Summer Fashion Bahemian ...          19.80   \n",
       "1   Hot 2016 summer sexy women maxi dress red band...          19.55   \n",
       "2   Hot Sale ! New Summer 2016 Women Sexy Lace Chi...   9.49 - 12.34   \n",
       "3   Summer Women Sexy Long Party Dresses 2016 Slee...          19.54   \n",
       "4   BEFORW Brand Women Dress Vintage Sleeveless Su...           6.92   \n",
       "5   Fashion Women Robe Sweet Sexy Stitching Sleeve...           4.30   \n",
       "6   2015 summer autumn new Korean Women casual Boh...    3.56 - 4.25   \n",
       "7   2016 Women Summer Dresses Chiffon O Neck Sleev...           7.98   \n",
       "8   Vfemage Womens Elegant Ruffle Sleeve Ruched Pa...  16.99 - 23.99   \n",
       "9   Nice-forever 2016 New arrival Print Floral Sol...  14.90 - 20.58   \n",
       "10  Summer dress women fashion new letter print bl...          20.90   \n",
       "11  New Women's Summer Dress V Neck Sleeveless Sex...    5.15 - 6.13   \n",
       "12  Kaige.Nina New Summer None Print Sleeveless Sh...          12.59   \n",
       "13  New European 2016 Spring Women's Lace Hollow O...          18.91   \n",
       "14  Simplee Apparel Sexy off shoulder sequin tasse...          18.99   \n",
       "15  Sisjuly 2016 Maxi Summer Plaid  Women Dress Ne...          16.26   \n",
       "16  Summer style Robe longue femme chiffon dress b...  11.54 - 12.60   \n",
       "17  SheIn New Woman Dress 2016 Summer Black Round ...          15.97   \n",
       "18  New 2016 Summer Fashion Hollow Out Elegant Whi...          19.25   \n",
       "19  2016 Women Vintage A-Line Dress Office Lady On...          26.51   \n",
       "20  ACEVOG Brand S - 4XL Women Dress Retro Vintage...          17.64   \n",
       "21  2016 Bohemian dress summer beach chiffon dress...           6.99   \n",
       "22  Gagaopt 2016 Summer Party Dresses Princess Ope...          19.83   \n",
       "23  Women Candy Color Spaghetti Strap Bandage Dres...          37.88   \n",
       "24  Women Multicolor Print Sleeveless Bodycon Penc...          11.98   \n",
       "25  2016 new women fashion backless sexy dress whi...           5.99   \n",
       "26  DEIVE TEGER Free Shipping 2016 New Arrival Hig...          35.91   \n",
       "27  Summer women sexy Slim dress o-neck Black and ...    6.27 - 7.18   \n",
       "28  New Fashion Plus Size 6XL 2016 Summer Slim Loo...           4.95   \n",
       "29  2016 new summer short-sleeved dress sexy casua...           6.92   \n",
       "30  ElaCentelha Brand Dress Summer Women High Qual...          41.40   \n",
       "31                      Women Black Mini Casual Dress           9.98   \n",
       "32  BunniesFairy Celebrity-inspired Women Elegant ...  20.33 - 25.80   \n",
       "33  2016 Summer Dress Beach Dress Plus Size Vestid...    7.40 - 7.95   \n",
       "34  New Women Summer Floral Print Retro Vintage 50...          12.54   \n",
       "35  Soperwillton New Summer Print Dresses Women Sl...    9.08 - 9.90   \n",
       "36  COLROVE 2016 New Summer Style Bodycon Dresses ...          10.99   \n",
       "37  2016 Summer Style Women Fashion Dress Vintage ...  12.08 - 12.98   \n",
       "38  Meaneor Brand 2015-2016 Women vestidos autumn ...          17.99   \n",
       "39  R70068 Fashion style low neck sleeveless work ...          14.48   \n",
       "40  Summer Women Dress 2016 Plus Size Women Clothi...           6.82   \n",
       "41  2016 NEW ARRIVALSexy Summer Beach Women Girl F...           5.19   \n",
       "42  Dresses Free Shipping Women's Casual Clothing ...           6.22   \n",
       "\n",
       "   Shipping Cost (USD)   Unit  \\\n",
       "0                    0  piece   \n",
       "1                    0  piece   \n",
       "2                 5.27  piece   \n",
       "3                    0  piece   \n",
       "4                    0  piece   \n",
       "5                    0  piece   \n",
       "6                    0  piece   \n",
       "7                    0  piece   \n",
       "8                 2.09  piece   \n",
       "9                 2.09  piece   \n",
       "10                3.12  piece   \n",
       "11                   0  piece   \n",
       "12                   0  piece   \n",
       "13                   0  piece   \n",
       "14                   0  piece   \n",
       "15                   0  piece   \n",
       "16                   0  piece   \n",
       "17                   0  piece   \n",
       "18                   0  piece   \n",
       "19                   0  piece   \n",
       "20                   0  piece   \n",
       "21                1.84  piece   \n",
       "22                   0  piece   \n",
       "23                   0  piece   \n",
       "24                   0  piece   \n",
       "25                0.67  piece   \n",
       "26                   0  piece   \n",
       "27                   0  piece   \n",
       "28                   0  piece   \n",
       "29                   0  piece   \n",
       "30                   0  piece   \n",
       "31                   0  piece   \n",
       "32                   0  piece   \n",
       "33                1.68  piece   \n",
       "34                   0  piece   \n",
       "35                   0  piece   \n",
       "36                   0  piece   \n",
       "37                   0  piece   \n",
       "38                   0  piece   \n",
       "39                   0  piece   \n",
       "40                   0  piece   \n",
       "41                   0  piece   \n",
       "42                   0  piece   \n",
       "\n",
       "                                         Webpage Link  \\\n",
       "0   http://www.aliexpress.com/item/Women-Plus-Size...   \n",
       "1   http://www.aliexpress.com/item/Hot-2016-summer...   \n",
       "2   http://www.aliexpress.com/item/Hot-Sale-New-Su...   \n",
       "3   http://www.aliexpress.com/item/Summer-Women-Se...   \n",
       "4   http://www.aliexpress.com/item/BEFORW-Brand-Wo...   \n",
       "5   http://www.aliexpress.com/item/Fashion-Women-R...   \n",
       "6   http://www.aliexpress.com/item/2015-spring-sum...   \n",
       "7   http://www.aliexpress.com/item/2016-Women-Summ...   \n",
       "8   http://www.aliexpress.com/item/VfEmage-Womens-...   \n",
       "9   http://www.aliexpress.com/item/Nice-forever-20...   \n",
       "10  http://www.aliexpress.com/item/Summer-dress-wo...   \n",
       "11  http://www.aliexpress.com/item/New-Women-s-Sum...   \n",
       "12  http://www.aliexpress.com/item/2015-New-Sale-W...   \n",
       "13  http://www.aliexpress.com/item/New-European-20...   \n",
       "14  http://www.aliexpress.com/item/Simplee-Apparel...   \n",
       "15  http://www.aliexpress.com/item/2016-Bridess-Ma...   \n",
       "16  http://www.aliexpress.com/item/Summer-style-Ro...   \n",
       "17  http://www.aliexpress.com/item/SheIn-New-Woman...   \n",
       "18  http://www.aliexpress.com/item/New-2016-Summer...   \n",
       "19  http://www.aliexpress.com/item/2015-Women-Vint...   \n",
       "20  http://www.aliexpress.com/item/ACEVOG-Brand-S-...   \n",
       "21  http://www.aliexpress.com/item/Bohemian-dress-...   \n",
       "22  http://www.aliexpress.com/item/Gagaopt-2016-Sp...   \n",
       "23  http://www.aliexpress.com/item/Women-candy-HL-...   \n",
       "24  http://www.aliexpress.com/item/COLROVE-Woman-W...   \n",
       "25  http://www.aliexpress.com/item/2016-new-women-...   \n",
       "26  http://www.aliexpress.com/item/DEIVE-TEGER-Fre...   \n",
       "27  http://www.aliexpress.com/item/Summer-women-se...   \n",
       "28  http://www.aliexpress.com/item/New-Fashion-Plu...   \n",
       "29  http://www.aliexpress.com/item/2016-new-summer...   \n",
       "30  http://www.aliexpress.com/item/ElaCentelha-Bra...   \n",
       "31  http://www.aliexpress.com/item/Dotfashion-2016...   \n",
       "32  http://www.aliexpress.com/item/2015-Summer-Cel...   \n",
       "33  http://www.aliexpress.com/item/2016-Summer-Dre...   \n",
       "34  http://www.aliexpress.com/item/New-Women-Summe...   \n",
       "35  http://www.aliexpress.com/item/Soperwillton-Ne...   \n",
       "36  http://www.aliexpress.com/item/COLROVE-2016-Ne...   \n",
       "37  http://www.aliexpress.com/item/2016-Summer-Sty...   \n",
       "38  http://www.aliexpress.com/item/Meaneor-Brand-2...   \n",
       "39  http://www.aliexpress.com/item/R70068-Fashion-...   \n",
       "40  http://www.aliexpress.com/item/2014-New-Summer...   \n",
       "41  http://www.aliexpress.com/item/2014-NEW-ARRIVA...   \n",
       "42  http://www.aliexpress.com/item/Free-Shipping-C...   \n",
       "\n",
       "                                           Image Link  \n",
       "0   http://g03.a.alicdn.com/kf/HTB1k0.TLpXXXXcPXVX...  \n",
       "1   http://g02.a.alicdn.com/kf/HTB13ZikJVXXXXaHXpX...  \n",
       "2   http://g03.a.alicdn.com/kf/HTB1V.h9JVXXXXbkXFX...  \n",
       "3   http://g02.a.alicdn.com/kf/HTB13qxoKVXXXXaHXpX...  \n",
       "4   http://g01.a.alicdn.com/kf/HTB1UXN_MFXXXXXgXFX...  \n",
       "5   http://g03.a.alicdn.com/kf/HTB1dippJVXXXXXvaXX...  \n",
       "6   http://g01.a.alicdn.com/kf/HTB1F4t8IFXXXXXRXVX...  \n",
       "7   http://g02.a.alicdn.com/kf/HTB1aEzsKXXXXXa6XFX...  \n",
       "8   http://g01.a.alicdn.com/kf/HTB1Uvz4JXXXXXc1aXX...  \n",
       "9   http://g03.a.alicdn.com/kf/HTB10rSMMXXXXXasXVX...  \n",
       "10  http://g03.a.alicdn.com/kf/HTB1graNJVXXXXbxaXX...  \n",
       "11  http://g02.a.alicdn.com/kf/HTB14sLkLpXXXXbuXpX...  \n",
       "12  http://g01.a.alicdn.com/kf/HTB1SU4TLXXXXXbIXXX...  \n",
       "13  http://g02.a.alicdn.com/kf/HTB1S14sMFXXXXayXFX...  \n",
       "14  http://g02.a.alicdn.com/kf/HTB1iP4wKpXXXXapXXX...  \n",
       "15  http://g02.a.alicdn.com/kf/HTB1p03GKFXXXXcGaXX...  \n",
       "16  http://g02.a.alicdn.com/kf/HTB1S3.wHFXXXXaSXVX...  \n",
       "17  http://g01.a.alicdn.com/kf/HTB1RVubJFXXXXckXVX...  \n",
       "18  http://g01.a.alicdn.com/kf/HTB1d4ImLFXXXXX3XFX...  \n",
       "19  http://g02.a.alicdn.com/kf/HTB1bMCoJXXXXXa6XVX...  \n",
       "20  http://g04.a.alicdn.com/kf/HTB1pLQZJFXXXXa3XpX...  \n",
       "21  http://g02.a.alicdn.com/kf/HTB18PS5HFXXXXaoapX...  \n",
       "22  http://g03.a.alicdn.com/kf/HTB1k1liKpXXXXXNXFX...  \n",
       "23  http://g01.a.alicdn.com/kf/HTB1_g2YJFXXXXXHXFX...  \n",
       "24  http://g02.a.alicdn.com/kf/HTB1QgbDKpXXXXbDXFX...  \n",
       "25  http://g04.a.alicdn.com/kf/HTB1RimhKXXXXXbpXFX...  \n",
       "26  http://g02.a.alicdn.com/kf/HTB1i2hbKpXXXXXyXFX...  \n",
       "27  http://g03.a.alicdn.com/kf/HTB1Vv03JVXXXXbcXFX...  \n",
       "28  http://g04.a.alicdn.com/kf/HTB1PxhIJFXXXXXlXXX...  \n",
       "29  http://g04.a.alicdn.com/kf/HTB1uGWhJVXXXXXAXXX...  \n",
       "30  http://g04.a.alicdn.com/kf/HTB1hNFlLVXXXXckXFX...  \n",
       "31  http://g02.a.alicdn.com/kf/HTB1YQYXKVXXXXcOXVX...  \n",
       "32  http://g02.a.alicdn.com/kf/HTB1F4A1KXXXXXbWaXX...  \n",
       "33  http://g01.a.alicdn.com/kf/HTB16mCZLpXXXXa4aXX...  \n",
       "34  http://g03.a.alicdn.com/kf/HTB1qY2kKVXXXXcNXVX...  \n",
       "35  http://g04.a.alicdn.com/kf/HTB1FJIfMXXXXXcfXFX...  \n",
       "36  http://g01.a.alicdn.com/kf/HTB1PrNfJFXXXXbWXpX...  \n",
       "37  http://g02.a.alicdn.com/kf/HTB1nsozLXXXXXb2XVX...  \n",
       "38  http://g04.a.alicdn.com/kf/HTB1xKe0KFXXXXb6XXX...  \n",
       "39  http://g01.a.alicdn.com/kf/HTB13rYxJpXXXXabXpX...  \n",
       "40  http://g01.a.alicdn.com/kf/HTB1VZ4NJpXXXXcDXFX...  \n",
       "41  http://g02.a.alicdn.com/kf/HTB1WmhBLXXXXXc4XXX...  \n",
       "42  http://g01.a.alicdn.com/kf/HTB1W5SWIVXXXXcRXVX...  "
      ]
     },
     "execution_count": 47,
     "metadata": {},
     "output_type": "execute_result"
    }
   ],
   "source": [
    "#del data\n",
    "data = {'Title': titles, 'Price (USD)': prices, 'Webpage Link': hrefs, 'Unit': units,\n",
    "        'Image Link': images, 'Shipping Cost (USD)': shippings}\n",
    "df = pd.DataFrame(data, columns=['Title', 'Price (USD)', 'Shipping Cost (USD)', 'Unit', 'Webpage Link', 'Image Link'])\n",
    "df.to_csv('Ali_Aliexpress.csv', index=False)\n",
    "df"
   ]
  },
  {
   "cell_type": "code",
   "execution_count": 289,
   "metadata": {
    "collapsed": false
   },
   "outputs": [
    {
     "data": {
      "text/plain": [
       "[]"
      ]
     },
     "execution_count": 289,
     "metadata": {},
     "output_type": "execute_result"
    }
   ],
   "source": [
    "products_image = soup.select('div[class=\"item\"] a[class=\"picRind\"]')\n",
    "products_image\n",
    "len(products_image)\n",
    "products_image"
   ]
  },
  {
   "cell_type": "code",
   "execution_count": 207,
   "metadata": {
    "collapsed": false
   },
   "outputs": [
    {
     "data": {
      "text/plain": [
       "54"
      ]
     },
     "execution_count": 207,
     "metadata": {},
     "output_type": "execute_result"
    }
   ],
   "source": [
    "products_image = soup.select('a img[src]')\n",
    "shippings = []\n",
    "for i in range(len(products_shipping)):\n",
    "    shipping = products_shipping[i].getText()\n",
    "    shippings.append(shipping)\n",
    "\n",
    "len(products_image)"
   ]
  },
  {
   "cell_type": "code",
   "execution_count": 271,
   "metadata": {
    "collapsed": false
   },
   "outputs": [
    {
     "name": "stdout",
     "output_type": "stream",
     "text": [
      "48\n"
     ]
    },
    {
     "ename": "AttributeError",
     "evalue": "'list' object has no attribute 'select'",
     "output_type": "error",
     "traceback": [
      "\u001b[1;31m---------------------------------------------------------------------------\u001b[0m",
      "\u001b[1;31mAttributeError\u001b[0m                            Traceback (most recent call last)",
      "\u001b[1;32m<ipython-input-271-0719cfd30019>\u001b[0m in \u001b[0;36m<module>\u001b[1;34m()\u001b[0m\n\u001b[0;32m      2\u001b[0m \u001b[0mprint\u001b[0m\u001b[1;33m(\u001b[0m\u001b[0mlen\u001b[0m\u001b[1;33m(\u001b[0m\u001b[0mitems\u001b[0m\u001b[1;33m)\u001b[0m\u001b[1;33m)\u001b[0m\u001b[1;33m\u001b[0m\u001b[0m\n\u001b[0;32m      3\u001b[0m \u001b[1;31m#price[1].getText()\u001b[0m\u001b[1;33m\u001b[0m\u001b[1;33m\u001b[0m\u001b[0m\n\u001b[1;32m----> 4\u001b[1;33m \u001b[0mitems\u001b[0m\u001b[1;33m.\u001b[0m\u001b[0mselect\u001b[0m\u001b[1;33m(\u001b[0m\u001b[1;34m'div'\u001b[0m\u001b[1;33m)\u001b[0m\u001b[1;33m\u001b[0m\u001b[0m\n\u001b[0m\u001b[0;32m      5\u001b[0m \u001b[1;31m#pd.DataFrame(price[1].get_text())\u001b[0m\u001b[1;33m\u001b[0m\u001b[1;33m\u001b[0m\u001b[0m\n\u001b[0;32m      6\u001b[0m \u001b[1;31m#product_info\u001b[0m\u001b[1;33m\u001b[0m\u001b[1;33m\u001b[0m\u001b[0m\n",
      "\u001b[1;31mAttributeError\u001b[0m: 'list' object has no attribute 'select'"
     ]
    }
   ],
   "source": [
    "items = soup.select('div[class=\"item\"]')\n",
    "print(len(items))\n",
    "#price[1].getText()\n",
    "items.select('div')\n",
    "#pd.DataFrame(price[1].get_text())\n",
    "#product_info"
   ]
  },
  {
   "cell_type": "code",
   "execution_count": 274,
   "metadata": {
    "collapsed": false
   },
   "outputs": [],
   "source": [
    "re.search('<a class=\"picRind \" href=\"//*\">', str(items[0]))"
   ]
  },
  {
   "cell_type": "code",
   "execution_count": 272,
   "metadata": {
    "collapsed": false
   },
   "outputs": [
    {
     "data": {
      "text/plain": [
       "<div class=\"item\">\n",
       "<div class=\"img img-border\">\n",
       "<div class=\"pic\">\n",
       "<a class=\"picRind \" href=\"//www.aliexpress.com/item/Women-Plus-Size-Dress-Summer-Fashion-Bahemian-Beach-Chiffon-Print-Dress-Sexy-Sleeveless-Off-The-Shouder/32601588432.html?ws_ab_test=searchweb201556_7,searchweb201602_3_10057_10056_10055_10049_10017_405_404_10059_407_10058_10040,searchweb201603_2&amp;btsid=d19ac3dc-be99-4617-ba6f-dbfcf2b09b5e\"><img alt=\"Women Plus Size Dress Summer Fashion Bahemian Beach Chiffon Print Dress Sexy Sleeveless Off The Shouder Wasit Maxi Dresses 6XL(China (Mainland))\" class=\"picCore pic-Core-v\" src=\"http://g03.a.alicdn.com/kf/HTB1k0.TLpXXXXcPXVXXq6xXFXXXA/Women-Plus-Size-Dress-Summer-Fashion-Bahemian-Beach-Chiffon-Print-Dress-Sexy-Sleeveless-Off-The-Shouder.jpg_220x220.jpg\"/></a>\n",
       "</div>\n",
       "</div>\n",
       "<div class=\"has-sku-image\"><a class=\"\" href=\"//www.aliexpress.com/item/Women-Plus-Size-Dress-Summer-Fashion-Bahemian-Beach-Chiffon-Print-Dress-Sexy-Sleeveless-Off-The-Shouder/32601588432.html?ws_ab_test=searchweb201556_7,searchweb201602_3_10057_10056_10055_10049_10017_405_404_10059_407_10058_10040,searchweb201603_2&amp;btsid=d19ac3dc-be99-4617-ba6f-dbfcf2b09b5e\" title=\"Women Plus Size Dress Summer Fashion Bahemian Beach Chiffon Print Dress Sexy Sleeveless Off The Shouder Wasit Maxi Dresses 6XL\">3 Colors Available</a></div>\n",
       "<div class=\"info\">\n",
       "<h3 class=\"icon-hotproduct\">\n",
       "<a class=\"product \" href=\"//www.aliexpress.com/item/Women-Plus-Size-Dress-Summer-Fashion-Bahemian-Beach-Chiffon-Print-Dress-Sexy-Sleeveless-Off-The-Shouder/32601588432.html?ws_ab_test=searchweb201556_7,searchweb201602_3_10057_10056_10055_10049_10017_405_404_10059_407_10058_10040,searchweb201603_2&amp;btsid=d19ac3dc-be99-4617-ba6f-dbfcf2b09b5e\" title=\"Women Plus Size Dress Summer Fashion Bahemian Beach Chiffon Print Dress Sexy Sleeveless Off The Shouder Wasit Maxi Dresses 6XL\">Women Plus Size Dress Summer Fashion Bahemian Beach Chiffon Print Dress Sexy Sleeveless Off The Shouder Wasit Maxi Dresses 6XL</a>\n",
       "</h3>\n",
       "<span class=\"price price-m\">\n",
       "<span class=\"value\" itemprop=\"price\">US $19.80</span>\n",
       "<span class=\"separator\">/</span>\n",
       "<span class=\"unit\">piece</span>\n",
       "</span>\n",
       "<strong class=\"free-s\">Free Shipping</strong>\n",
       "<div class=\"rate-history\">\n",
       "<span class=\"star star-s\" title=\"Star Rating: 4.8 out of 5\">\n",
       "<span class=\"rate-percent\" style=\"width: 96.7%;\"></span>\n",
       "</span>\n",
       "<a class=\"rate-num \" href=\"//www.aliexpress.com/item/Women-Plus-Size-Dress-Summer-Fashion-Bahemian-Beach-Chiffon-Print-Dress-Sexy-Sleeveless-Off-The-Shouder/32601588432.html?ws_ab_test=searchweb201556_7,searchweb201602_3_10057_10056_10055_10049_10017_405_404_10059_407_10058_10040,searchweb201603_2&amp;btsid=d19ac3dc-be99-4617-ba6f-dbfcf2b09b5e#feedback\" rel=\"nofollow\" title=\"Feedback(421)\">(421)</a>\n",
       "<span class=\"rate-separator\">|</span>\n",
       "<span class=\"order-num\" rel=\"nofollow\">\n",
       "<a class=\"order-num-a \" href=\"//www.aliexpress.com/item/Women-Plus-Size-Dress-Summer-Fashion-Bahemian-Beach-Chiffon-Print-Dress-Sexy-Sleeveless-Off-The-Shouder/32601588432.html?ws_ab_test=searchweb201556_7,searchweb201602_3_10057_10056_10055_10049_10017_405_404_10059_407_10058_10040,searchweb201603_2&amp;btsid=d19ac3dc-be99-4617-ba6f-dbfcf2b09b5e#thf\" rel=\"nofollow\"><em title=\"Total Orders\"> Orders (860)</em></a>\n",
       "</span>\n",
       "</div>\n",
       "</div>\n",
       "<div class=\"info-more\">\n",
       "<div class=\"store-name-chat\">\n",
       "<div class=\"store-name util-clearfix\">\n",
       "<a class=\"store \" href=\"//www.aliexpress.com/store/1178748\" title=\"Plus Size Beauty\">Plus Size Beauty</a>\n",
       "</div>\n",
       "<span class=\"store-separator\">|</span>\n",
       "<a class=\"atm16grey atm-link \" data-from=\"11\" data-id1=\"32601588432\" data-memberid=\"8pctgRBMALMr0vEm9wuT9afYC2t6qlDz\" data-role-atm=\"p4p\" from=\"11\" href=\"javascript:;\" id=\"talkId1\" id1=\"32601588432\" memberid=\"8pctgRBMALMr0vEm9wuT9afYC2t6qlDz\" rel=\"nofollow\" title=\"Leave me a message\"></a>\n",
       "</div>\n",
       "<a class=\"score-dot\" href=\"//www.aliexpress.com/store/feedback-score/1178748.html\" rel=\"nofollow\"><img alt=\"\" class=\"score-icon\" feedbackscore=\"1,021\" id=\"score1\" sellerpositivefeedbackpercentage=\"98.7\" src=\"//img.alibaba.com/wimg/feedback/icon/22-s.gif\"/></a>\n",
       "<div class=\"add-to-wishlist\">\n",
       "<a class=\"atwl-button \" data-product-id=\"32601588432\" href=\"javascript:;\">Add to Wish List</a>\n",
       "</div>\n",
       "<input class=\"atc-product-id\" type=\"hidden\" value=\"32601588432\"/>\n",
       "<input class=\"atc-product-standard\" type=\"hidden\" value=\"\"/>\n",
       "</div>\n",
       "</div>"
      ]
     },
     "execution_count": 272,
     "metadata": {},
     "output_type": "execute_result"
    }
   ],
   "source": [
    "items[0]"
   ]
  },
  {
   "cell_type": "code",
   "execution_count": 121,
   "metadata": {
    "collapsed": false
   },
   "outputs": [
    {
     "data": {
      "text/plain": [
       "<div class=\"info\">\n",
       "<h3 class=\"icon-hotproduct\">\n",
       "<a class=\"product \" href=\"//www.aliexpress.com/item/Women-Plus-Size-Dress-Summer-Fashion-Bahemian-Beach-Chiffon-Print-Dress-Sexy-Sleeveless-Off-The-Shouder/32601588432.html?ws_ab_test=searchweb201556_10,searchweb201602_3_10057_10056_10055_10049_10017_405_404_10059_407_10058_10040,searchweb201603_2&amp;btsid=49e75169-6af0-4ea5-b241-4dde8b8c1cea\" title=\"Women Plus Size Dress Summer Fashion Bahemian Beach Chiffon Print Dress Sexy Sleeveless Off The Shouder Wasit Maxi Dresses 6XL\">Women Plus Size Dress Summer Fashion Bahemian Beach Chiffon Print Dress Sexy Sleeveless Off The Shouder Wasit Maxi Dresses 6XL</a>\n",
       "</h3>\n",
       "<span class=\"price price-m\">\n",
       "<span class=\"value\" itemprop=\"price\">US $19.80</span>\n",
       "<span class=\"separator\">/</span>\n",
       "<span class=\"unit\">piece</span>\n",
       "</span>\n",
       "<strong class=\"free-s\">Free Shipping</strong>\n",
       "<div class=\"rate-history\">\n",
       "<span class=\"star star-s\" title=\"Star Rating: 4.8 out of 5\">\n",
       "<span class=\"rate-percent\" style=\"width: 96.7%;\"></span>\n",
       "</span>\n",
       "<a class=\"rate-num \" href=\"//www.aliexpress.com/item/Women-Plus-Size-Dress-Summer-Fashion-Bahemian-Beach-Chiffon-Print-Dress-Sexy-Sleeveless-Off-The-Shouder/32601588432.html?ws_ab_test=searchweb201556_10,searchweb201602_3_10057_10056_10055_10049_10017_405_404_10059_407_10058_10040,searchweb201603_2&amp;btsid=49e75169-6af0-4ea5-b241-4dde8b8c1cea#feedback\" rel=\"nofollow\" title=\"Feedback(421)\">(421)</a>\n",
       "<span class=\"rate-separator\">|</span>\n",
       "<span class=\"order-num\" rel=\"nofollow\">\n",
       "<a class=\"order-num-a \" href=\"//www.aliexpress.com/item/Women-Plus-Size-Dress-Summer-Fashion-Bahemian-Beach-Chiffon-Print-Dress-Sexy-Sleeveless-Off-The-Shouder/32601588432.html?ws_ab_test=searchweb201556_10,searchweb201602_3_10057_10056_10055_10049_10017_405_404_10059_407_10058_10040,searchweb201603_2&amp;btsid=49e75169-6af0-4ea5-b241-4dde8b8c1cea#thf\" rel=\"nofollow\"><em title=\"Total Orders\"> Orders (860)</em></a>\n",
       "</span>\n",
       "</div>\n",
       "</div>"
      ]
     },
     "execution_count": 121,
     "metadata": {},
     "output_type": "execute_result"
    }
   ],
   "source": [
    "info = soup.select('div[class=\"info\"]')\n",
    "len(info)\n",
    "info[0]\n",
    "#item[\"price\"].getText()\n",
    "#info[0].getText()\n",
    "#item"
   ]
  },
  {
   "cell_type": "code",
   "execution_count": 34,
   "metadata": {
    "collapsed": false
   },
   "outputs": [
    {
     "name": "stdout",
     "output_type": "stream",
     "text": [
      "[<Element ul at 0x1a99166e598>]\n"
     ]
    }
   ],
   "source": [
    "#This will create a list of buyers:\n",
    "buyers = tree.xpath('//div[@id=\"page\"]/div[@class=\"grid-c2-s5 util-clearfix\"]'\n",
    "                    '/div[@class=\"col-main\"]/div[@id=\"main-wrap\"]/div[@id=\"gallery-item\"]'\n",
    "                   '/div[@id=\"list-items\"]/ul[@class=\"util-clearfix son-list\"]'\n",
    "                   '/li[@]')\n",
    "#This will create a list of prices\n",
    "prices = tree.xpath('//span[@class=\"item-price\"]/text()')\n",
    "print(buyers)"
   ]
  },
  {
   "cell_type": "code",
   "execution_count": 4,
   "metadata": {
    "collapsed": true
   },
   "outputs": [],
   "source": [
    "#This will create a list of buyers:\n",
    "buyers = tree.xpath('//div[@title=\"buyer-name\"]/text()')\n",
    "#This will create a list of prices\n",
    "prices = tree.xpath('//span[@class=\"item-price\"]/text()')"
   ]
  },
  {
   "cell_type": "code",
   "execution_count": 30,
   "metadata": {
    "collapsed": false
   },
   "outputs": [
    {
     "name": "stdout",
     "output_type": "stream",
     "text": [
      "[<Element div at 0x1a9915fb6d8>]\n"
     ]
    }
   ],
   "source": [
    "print(buyers)"
   ]
  },
  {
   "cell_type": "code",
   "execution_count": 6,
   "metadata": {
    "collapsed": false
   },
   "outputs": [
    {
     "name": "stdout",
     "output_type": "stream",
     "text": [
      "['$29.95', '$8.37', '$15.26', '$19.25', '$19.25', '$13.99', '$31.57', '$8.49', '$14.47', '$15.86', '$11.11', '$15.98', '$16.27', '$7.50', '$50.85', '$14.26', '$5.68', '$15.00', '$114.07', '$10.09']\n"
     ]
    }
   ],
   "source": [
    "li.list-item:nth-child(1)"
   ]
  },
  {
   "cell_type": "code",
   "execution_count": null,
   "metadata": {
    "collapsed": true
   },
   "outputs": [],
   "source": []
  }
 ],
 "metadata": {
  "kernelspec": {
   "display_name": "Python 3",
   "language": "python",
   "name": "python3"
  },
  "language_info": {
   "codemirror_mode": {
    "name": "ipython",
    "version": 3
   },
   "file_extension": ".py",
   "mimetype": "text/x-python",
   "name": "python",
   "nbconvert_exporter": "python",
   "pygments_lexer": "ipython3",
   "version": "3.5.1"
  }
 },
 "nbformat": 4,
 "nbformat_minor": 0
}
